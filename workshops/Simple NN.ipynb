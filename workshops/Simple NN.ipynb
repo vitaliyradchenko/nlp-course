{
 "cells": [
  {
   "cell_type": "markdown",
   "metadata": {},
   "source": [
    "# Simple NN for text classification"
   ]
  },
  {
   "cell_type": "markdown",
   "metadata": {},
   "source": [
    "Download IMDB data as it is described [here](https://towardsdatascience.com/sentiment-analysis-with-python-part-1-5ce197074184)."
   ]
  },
  {
   "cell_type": "code",
   "execution_count": null,
   "metadata": {},
   "outputs": [],
   "source": [
    "reviews_train = []\n",
    "for line in open(\"../data/imdb/full_train.txt\", \"r\"):\n",
    "    reviews_train.append(line.strip())\n",
    "    \n",
    "reviews_test = []\n",
    "for line in open(\"../data/imdb/full_test.txt\", \"r\"):\n",
    "    reviews_test.append(line.strip())"
   ]
  },
  {
   "cell_type": "code",
   "execution_count": null,
   "metadata": {},
   "outputs": [],
   "source": [
    "train_target = [1 if i < 12500 else 0 for i in range(25000)]\n",
    "test_target = [1 if i < 12500 else 0 for i in range(25000)]"
   ]
  },
  {
   "cell_type": "code",
   "execution_count": null,
   "metadata": {},
   "outputs": [],
   "source": [
    "print(f\"Train size – {len(reviews_train)}\")\n",
    "print(f\"Test size – {len(reviews_test)}\")"
   ]
  },
  {
   "cell_type": "code",
   "execution_count": null,
   "metadata": {},
   "outputs": [],
   "source": [
    "import torch\n",
    "import torch.nn as nn\n",
    "\n",
    "class SentimentClassificationModel(nn.Module):\n",
    "    def __init__(self, vocab_size, embed_dim, num_class):\n",
    "        super().__init__()\n",
    "        self.embedding = nn.Embedding(vocab_size, embed_dim) # 100000x300\n",
    "        self.fc1 = nn.Linear(embed_dim, embed_dim) # 300x300\n",
    "        self.fc2 = nn.Linear(embed_dim, num_class) # 300x2\n",
    "        self.init_weights()\n",
    "\n",
    "    def init_weights(self):\n",
    "        init_range = 0.5\n",
    "        self.embedding.weight.data.uniform_(-init_range, init_range)\n",
    "        self.fc1.weight.data.uniform_(-init_range, init_range)\n",
    "        self.fc1.bias.data.zero_()\n",
    "        self.fc2.weight.data.uniform_(-init_range, init_range)\n",
    "        self.fc2.bias.data.zero_()\n",
    "\n",
    "    def forward(self, text): # [[1,2,3,4],[3,4,5,6,2]]\n",
    "        embedded = self.embedding(text) # 2x5x300\n",
    "        fc1_output = self.fc1(embedded) # 2x5x300\n",
    "        pooled_output, _ = fc1_output.max(dim=1) # 2x300\n",
    "        return self.fc2(pooled_output) # 2x2 [[0.7, -0.9],[0.1, 1.6]]"
   ]
  },
  {
   "cell_type": "code",
   "execution_count": null,
   "metadata": {},
   "outputs": [],
   "source": [
    "from itertools import chain\n",
    "\n",
    "train_tokens = list(chain(*[[token for token in sample.lower().split()] for sample in reviews_train]))"
   ]
  },
  {
   "cell_type": "code",
   "execution_count": null,
   "metadata": {},
   "outputs": [],
   "source": [
    "from collections import Counter\n",
    "\n",
    "train_vocabulary = Counter(train_tokens)"
   ]
  },
  {
   "cell_type": "code",
   "execution_count": null,
   "metadata": {},
   "outputs": [],
   "source": [
    "train_vocabulary.most_common(10)"
   ]
  },
  {
   "cell_type": "code",
   "execution_count": null,
   "metadata": {},
   "outputs": [],
   "source": [
    "len(train_vocabulary)"
   ]
  },
  {
   "cell_type": "code",
   "execution_count": null,
   "metadata": {},
   "outputs": [],
   "source": [
    "UNKNOWN_TOKEN = \"unknown\"\n",
    "PADDING_TOKEN = \"padding\"\n",
    "\n",
    "index_to_token = [PADDING_TOKEN, UNKNOWN_TOKEN] + list(train_vocabulary.keys())\n",
    "token_to_index = {token: index + 2 for index, token in enumerate(train_vocabulary.keys())}\n",
    "token_to_index[PADDING_TOKEN] = 0\n",
    "token_to_index[UNKNOWN_TOKEN] = 1"
   ]
  },
  {
   "cell_type": "code",
   "execution_count": null,
   "metadata": {},
   "outputs": [],
   "source": [
    "token_to_index[\"hi\"]"
   ]
  },
  {
   "cell_type": "code",
   "execution_count": null,
   "metadata": {},
   "outputs": [],
   "source": [
    "index_to_token[24615]"
   ]
  },
  {
   "cell_type": "code",
   "execution_count": null,
   "metadata": {},
   "outputs": [],
   "source": [
    "EMBEDDING_DIM = 100\n",
    "BATCH_SIZE = 64\n",
    "MAX_INPUT_LENGTH = 100"
   ]
  },
  {
   "cell_type": "markdown",
   "metadata": {},
   "source": [
    "### Define batching"
   ]
  },
  {
   "cell_type": "code",
   "execution_count": null,
   "metadata": {},
   "outputs": [],
   "source": [
    "def generate_batch(input_data, max_length = MAX_INPUT_LENGTH):\n",
    "    texts = torch.tensor([padding(sample[\"text\"], max_length) for sample in input_data], dtype=torch.long)\n",
    "    labels = torch.tensor([sample[\"label\"] for sample in input_data], dtype=torch.long)\n",
    "    return texts, labels\n",
    "\n",
    "def padding(text_tokens, max_length, padding_token = 0):\n",
    "    if len(text_tokens) >= max_length:\n",
    "        return text_tokens[:max_length]\n",
    "    return text_tokens + [padding_token]*(max_length - len(text_tokens))"
   ]
  },
  {
   "cell_type": "code",
   "execution_count": null,
   "metadata": {},
   "outputs": [],
   "source": [
    "prepared_data = []\n",
    "\n",
    "for label, text in zip(train_target, reviews_train):\n",
    "    text_tokens = [token_to_index[token.lower()] for token in text.split()]\n",
    "    prepared_data.append({\"label\": label, \"text\": text_tokens})"
   ]
  },
  {
   "cell_type": "markdown",
   "metadata": {},
   "source": [
    "### Train and test strategy"
   ]
  },
  {
   "cell_type": "code",
   "execution_count": null,
   "metadata": {},
   "outputs": [],
   "source": [
    "from torch.utils.data import DataLoader\n",
    "\n",
    "def train(input_data):\n",
    "\n",
    "    # Train the model\n",
    "    train_loss = 0\n",
    "    train_acc = 0\n",
    "    data = DataLoader(input_data, batch_size=BATCH_SIZE, shuffle=True, collate_fn=generate_batch)\n",
    "    for i, (text, label) in enumerate(data):\n",
    "        optimizer.zero_grad()\n",
    "        text, label = text.to(device), label.to(device)\n",
    "        output = model(text)\n",
    "        loss = criterion(output, label)\n",
    "        train_loss += loss.item()\n",
    "        loss.backward()\n",
    "        optimizer.step()\n",
    "        train_acc += (output.argmax(1) == label).sum().item()\n",
    "\n",
    "    return train_loss / len(data), train_acc / len(input_data)\n",
    "\n",
    "def test(input_data):\n",
    "    test_loss = 0\n",
    "    acc = 0\n",
    "    data = DataLoader(input_data, batch_size=BATCH_SIZE, collate_fn=generate_batch)\n",
    "    for text, label in data:\n",
    "        text, label = text.to(device), label.to(device)\n",
    "        with torch.no_grad():\n",
    "            output = model(text)\n",
    "            loss = criterion(output, label)\n",
    "            test_loss += loss.item()\n",
    "            acc += (output.argmax(1) == label).sum().item()\n",
    "\n",
    "    return test_loss / len(data), acc / len(input_data)"
   ]
  },
  {
   "cell_type": "markdown",
   "metadata": {},
   "source": [
    "## Training"
   ]
  },
  {
   "cell_type": "code",
   "execution_count": null,
   "metadata": {},
   "outputs": [],
   "source": [
    "import random\n",
    "import numpy\n",
    "\n",
    "def set_seed(seed: int, n_gpu: int):\n",
    "    random.seed(seed)\n",
    "    numpy.random.seed(seed)\n",
    "    torch.manual_seed(seed)\n",
    "    if n_gpu > 0:\n",
    "        torch.cuda.manual_seed_all(seed)"
   ]
  },
  {
   "cell_type": "code",
   "execution_count": null,
   "metadata": {},
   "outputs": [],
   "source": [
    "set_seed(42, 1)"
   ]
  },
  {
   "cell_type": "code",
   "execution_count": null,
   "metadata": {},
   "outputs": [],
   "source": [
    "device = torch.device(\"cuda:1\" if torch.cuda.is_available() else \"cpu\")"
   ]
  },
  {
   "cell_type": "code",
   "execution_count": null,
   "metadata": {},
   "outputs": [],
   "source": [
    "model = SentimentClassificationModel(vocab_size=len(index_to_token), embed_dim=EMBEDDING_DIM, num_class=len(set(train_target)))\n",
    "model.to(device)"
   ]
  },
  {
   "cell_type": "code",
   "execution_count": null,
   "metadata": {
    "scrolled": true
   },
   "outputs": [],
   "source": [
    "import time\n",
    "from torch.utils.data.dataset import random_split\n",
    "\n",
    "N_EPOCHS = 5\n",
    "min_valid_loss = float('inf')\n",
    "\n",
    "criterion = torch.nn.CrossEntropyLoss().to(device)\n",
    "optimizer = torch.optim.SGD(model.parameters(), lr=0.1)\n",
    "\n",
    "train_len = int(len(prepared_data) * 0.95)\n",
    "train_data, validation_data = \\\n",
    "    random_split(prepared_data, [train_len, len(prepared_data) - train_len])\n",
    "\n",
    "for epoch in range(N_EPOCHS):\n",
    "\n",
    "    start_time = time.time()\n",
    "    train_loss, train_acc = train(train_data)\n",
    "    valid_loss, valid_acc = test(validation_data)\n",
    "\n",
    "    secs = int(time.time() - start_time)\n",
    "    mins = secs / 60\n",
    "    secs = secs % 60\n",
    "\n",
    "    print('Epoch: %d' %(epoch + 1), \" | time in %d minutes, %d seconds\" %(mins, secs))\n",
    "    print(f'\\tLoss: {train_loss:.4f}(train)\\t|\\tAcc: {train_acc * 100:.1f}%(train)')\n",
    "    print(f'\\tLoss: {valid_loss:.4f}(valid)\\t|\\tAcc: {valid_acc * 100:.1f}%(valid)')"
   ]
  },
  {
   "cell_type": "code",
   "execution_count": null,
   "metadata": {},
   "outputs": [],
   "source": [
    "prepared_test_data = []\n",
    "\n",
    "for label, text in zip(test_target, reviews_test):\n",
    "    text_tokens = [token_to_index.get(token.lower(), token_to_index[\"unknown\"]) for token in text.split()]\n",
    "    prepared_test_data.append({\"label\": label, \"text\": text_tokens})"
   ]
  },
  {
   "cell_type": "code",
   "execution_count": null,
   "metadata": {},
   "outputs": [],
   "source": [
    "test(prepared_test_data)"
   ]
  },
  {
   "cell_type": "code",
   "execution_count": null,
   "metadata": {},
   "outputs": [],
   "source": []
  }
 ],
 "metadata": {
  "kernelspec": {
   "display_name": "nlp-course",
   "language": "python",
   "name": "nlp-course"
  },
  "language_info": {
   "codemirror_mode": {
    "name": "ipython",
    "version": 3
   },
   "file_extension": ".py",
   "mimetype": "text/x-python",
   "name": "python",
   "nbconvert_exporter": "python",
   "pygments_lexer": "ipython3",
   "version": "3.6.10"
  }
 },
 "nbformat": 4,
 "nbformat_minor": 4
}
